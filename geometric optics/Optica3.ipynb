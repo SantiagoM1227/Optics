{
 "cells": [
  {
   "cell_type": "code",
   "execution_count": 12,
   "id": "938745ba",
   "metadata": {},
   "outputs": [],
   "source": [
    "import qexpy as q\n",
    "import qexpy.plotting as plt\n",
    "import numpy as np"
   ]
  },
  {
   "cell_type": "code",
   "execution_count": 59,
   "id": "4bf66d15",
   "metadata": {},
   "outputs": [],
   "source": [
    "f = q.Measurement(12, 0.5, units = \"cm\");\n",
    "X_lente1 = q.Measurement(65., 0.5, units = \"cm\");\n",
    "X_pantalla = q.Measurement(90.5, 0.5, units = \"cm\");\n",
    "X_planovirtual = X_lente1-2*f;\n",
    "\n",
    "X_lente2 = q.MeasurementArray([63,61,59,57,55], 0.5, units = \"cm\");\n",
    "X_objeto = q.MeasurementArray([55.5,53.5,52,50.5,49], 0.5, units = \"cm\");\n",
    "yf = q.MeasurementArray([1.2,1.1, 0.9,0.9,0.8], 0.1, units = \"cm\");\n",
    "y = q.Measurement(0.4,0,units = \"cm\");\n",
    "\n",
    "\n",
    "s = X_objeto-X_lente2;\n",
    "s_prima = X_planovirtual-X_lente2;"
   ]
  },
  {
   "cell_type": "code",
   "execution_count": 40,
   "id": "d029e7c3",
   "metadata": {},
   "outputs": [
    {
     "name": "stdout",
     "output_type": "stream",
     "text": [
      "[ -7.5 +/- 0.7, -7.5 +/- 0.7, -7.0 +/- 0.7, -6.5 +/- 0.7, -6.0 +/- 0.7 ]\n",
      "[ -22 +/- 1, -20 +/- 1, -18 +/- 1, -16 +/- 1, -14 +/- 1 ]\n",
      "41 +/- 1\n"
     ]
    }
   ],
   "source": [
    "print(s);\n",
    "print(s_prima);\n",
    "print(X_planovirtual);"
   ]
  },
  {
   "cell_type": "code",
   "execution_count": 55,
   "id": "d109ab93",
   "metadata": {},
   "outputs": [
    {
     "data": {
      "image/png": "[encoded data removed]",
      "text/plain": [
       "<Figure size 460.8x345.6 with 1 Axes>"
      ]
     },
     "metadata": {
      "needs_background": "light"
     },
     "output_type": "display_data"
    },
    {
     "name": "stdout",
     "output_type": "stream",
     "text": [
      "----------------- Fit Results -------------------\n",
      "Fit of Verificación de la ecuación de Gauss to linear\n",
      "\n",
      "Result Parameter List: \n",
      "slope = 0.7 +/- 0.1,\n",
      "intercept = 0.05 +/- 0.02\n",
      "\n",
      "Correlation Matrix: \n",
      "[[1.    0.998]\n",
      " [0.998 1.   ]]\n",
      "\n",
      "chi2/ndof = 1.41/2\n",
      "\n",
      "--------------- End Fit Results -----------------\n",
      "20 +/- 6\n"
     ]
    }
   ],
   "source": [
    "fig1 = plt.plot(1/s, 1/s_prima, name = \"Verificación de la ecuación de Gauss\")\n",
    "fig1.xname = \"1/s[1/cm]\"\n",
    "fig1.yname = \"1/s'[1/cm]\"\n",
    "result1 = fig1.fit(model = q.FitModel.LINEAR)\n",
    "plt.show()\n",
    "print(result1)\n",
    "print(1/result1[1])\n"
   ]
  },
  {
   "cell_type": "code",
   "execution_count": 63,
   "id": "f15ab13d",
   "metadata": {},
   "outputs": [],
   "source": [
    "def hprima(Y,Yprima):\n",
    "    return Yprima/Y; "
   ]
  },
  {
   "cell_type": "code",
   "execution_count": 64,
   "id": "73691fea",
   "metadata": {},
   "outputs": [
    {
     "name": "stdout",
     "output_type": "stream",
     "text": [
      "[ 3.0 +/- 0.2, 2.8 +/- 0.2, 2.2 +/- 0.2, 2.2 +/- 0.2, 2.0 +/- 0.2 ]\n"
     ]
    }
   ],
   "source": [
    "ydats = hprima(y,yf)\n",
    "print(ydats)"
   ]
  },
  {
   "cell_type": "code",
   "execution_count": null,
   "id": "b991d816",
   "metadata": {},
   "outputs": [],
   "source": []
  }
 ],
 "metadata": {
  "kernelspec": {
   "display_name": "Python (my_env_name)",
   "language": "python",
   "name": "my_env_name"
  },
  "language_info": {
   "codemirror_mode": {
    "name": "ipython",
    "version": 3
   },
   "file_extension": ".py",
   "mimetype": "text/x-python",
   "name": "python",
   "nbconvert_exporter": "python",
   "pygments_lexer": "ipython3",
   "version": "3.9.12"
  }
 },
 "nbformat": 4,
 "nbformat_minor": 5
}
