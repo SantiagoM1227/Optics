{
 "cells": [
  {
   "cell_type": "code",
   "execution_count": 2,
   "id": "aada0ddc",
   "metadata": {},
   "outputs": [],
   "source": [
    "import qexpy as q\n",
    "import qexpy.plotting as plt\n",
    "import numpy as np"
   ]
  },
  {
   "cell_type": "code",
   "execution_count": 39,
   "id": "e5f20bd8",
   "metadata": {},
   "outputs": [],
   "source": [
    "def r(h,y,d,H):\n",
    "    return d*(y-H)/(h-y)\n",
    "\n",
    "def sinphii(h,y1,d):\n",
    "    return (h-y1)/(((h-y1)**2+d**2)**(0.5))\n",
    "\n",
    "def sinphit(y1,l):\n",
    "    return y1/((l**2+y1**2)**(0.5))\n",
    "\n",
    "def sinthetai(h,y2,l,d,H):\n",
    "    R = r(h,y2,d,H)\n",
    "    return R/((R**2+(y2-H)**2)**(0.5))\n",
    "\n",
    "def sinthetat(h,y2,l,d,H):\n",
    "    R = r(h,y2,d,H)\n",
    "    return (l-R)/((H**2+(l-R)**2)**(0.5))\n",
    "\n",
    "def nAgua1(h,y1,d,l):\n",
    "    num = sinphii(h,y1,d)\n",
    "    den = sinphit(y1,l)\n",
    "    return num/den\n",
    "\n",
    "def nAgua2(h,y2,l,d,H):\n",
    "    num = sinthetai(h,y2,l,d,H)\n",
    "    den = sinthetat(h,y2,l,d,H)\n",
    "    return num/den"
   ]
  },
  {
   "cell_type": "code",
   "execution_count": 47,
   "id": "3dc9f784",
   "metadata": {
    "scrolled": true
   },
   "outputs": [
    {
     "name": "stdout",
     "output_type": "stream",
     "text": [
      "[ 2.4 +/- 0.2, 2.5 +/- 0.1, 2.28 +/- 0.09, 2.56 +/- 0.08 ] \n",
      " 2.42 +/- 0.06\n",
      "[ 0.81 +/- 0.03, 0.64 +/- 0.02, 0.66 +/- 0.02, 0.71 +/- 0.03 ] \n",
      " 0.71 +/- 0.04\n"
     ]
    }
   ],
   "source": [
    "#Datos nuevos\n",
    "l = q.Measurement(13.4,0.1) # distancia del punto al borde de la vasija\n",
    "d1 = q.Measurement(17.4,0.3) # distanica horizontal de la vasija al ojo (para medidas de y1)\n",
    "d2 = q.Measurement(6.0,0.) # distanica horizontal de la vasija al ojo (para medidas de y2)\n",
    "H = q.Measurement(8.6,0.1) #Altura del agua\n",
    "\n",
    "h1 = q.MeasurementArray([8,11.9,15.2,20.8],0.4) #Altura ojo\n",
    "y1 = q.MeasurementArray([1.9,2.6,3.4,3.8],0.1)\n",
    "\n",
    "h2 = q.MeasurementArray([15.9,20.1,21,21.8],0.4) #Altura ojo\n",
    "y2 = q.MeasurementArray([9.3,10.4,11.4,12.8],0.1) \n",
    "\n",
    "Nagua1 = nAgua1(h1,y1,d1,l)\n",
    "\n",
    "Nagua2 = nAgua2(h2,y2,l,d2,H)\n",
    "\n",
    "\n",
    "print(Nagua1, '\\n', q.mean(Nagua1))\n",
    "print(Nagua2, '\\n', q.mean(Nagua2))"
   ]
  },
  {
   "cell_type": "code",
   "execution_count": null,
   "id": "b6f2b658",
   "metadata": {},
   "outputs": [],
   "source": []
  }
 ],
 "metadata": {
  "kernelspec": {
   "display_name": "Python 3 (ipykernel)",
   "language": "python",
   "name": "python3"
  },
  "language_info": {
   "codemirror_mode": {
    "name": "ipython",
    "version": 3
   },
   "file_extension": ".py",
   "mimetype": "text/x-python",
   "name": "python",
   "nbconvert_exporter": "python",
   "pygments_lexer": "ipython3",
   "version": "3.9.12"
  }
 },
 "nbformat": 4,
 "nbformat_minor": 5
}
